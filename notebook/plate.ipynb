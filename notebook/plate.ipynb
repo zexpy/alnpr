{
 "cells": [
  {
   "cell_type": "code",
   "execution_count": 1,
   "id": "49105f2a-2f00-4e5b-bb43-2d05f0a07232",
   "metadata": {},
   "outputs": [
    {
     "name": "stderr",
     "output_type": "stream",
     "text": [
      "2024-07-10 20:49:03.374119: I tensorflow/core/platform/cpu_feature_guard.cc:210] This TensorFlow binary is optimized to use available CPU instructions in performance-critical operations.\n",
      "To enable the following instructions: AVX2 FMA, in other operations, rebuild TensorFlow with the appropriate compiler flags.\n",
      "2024-07-10 20:49:04.501354: W tensorflow/compiler/tf2tensorrt/utils/py_utils.cc:38] TF-TRT Warning: Could not find TensorRT\n"
     ]
    }
   ],
   "source": [
    "import tensorflow as tf\n",
    "from tensorflow.keras.preprocessing.image import ImageDataGenerator\n",
    "from tensorflow.keras.preprocessing import image\n",
    "from tensorflow.keras.optimizers import RMSprop\n",
    "import matplotlib.pyplot as plt\n",
    "import cv2\n",
    "import numpy as np\n",
    "import os\n",
    "from PIL import Image"
   ]
  },
  {
   "cell_type": "code",
   "execution_count": 2,
   "id": "70f4163f-18ef-4a79-96eb-dd9dfd5bd7e4",
   "metadata": {},
   "outputs": [],
   "source": [
    "train = ImageDataGenerator(\n",
    "    rescale=1./255,\n",
    "    shear_range=0.2,\n",
    "    zoom_range=0.2,\n",
    "    horizontal_flip=True\n",
    ")"
   ]
  },
  {
   "cell_type": "code",
   "execution_count": 5,
   "id": "6c200739-17ea-4616-be43-efde821e4ad6",
   "metadata": {},
   "outputs": [
    {
     "name": "stdout",
     "output_type": "stream",
     "text": [
      "Found 410 images belonging to 13 classes.\n",
      "Found 1772 images belonging to 13 classes.\n"
     ]
    }
   ],
   "source": [
    "test_dataset = train.flow_from_directory('/home/zephyr/Desktop/.code/college/alnpr/datasets/character/training', \n",
    "                                          target_size=(30,30),\n",
    "                                          batch_size=4,\n",
    "                                          class_mode=\"categorical\")\n",
    "train_dataset = train.flow_from_directory('/home/zephyr/Desktop/.code/college/alnpr/datasets/character/testing', \n",
    "                                          target_size=(30,100),\n",
    "                                          batch_size=4,\n",
    "                                          class_mode=\"categorical\")\n",
    "                                          "
   ]
  },
  {
   "cell_type": "code",
   "execution_count": null,
   "id": "f19961c0-7583-4b12-9828-f0d1eb7af8c1",
   "metadata": {},
   "outputs": [],
   "source": [
    "x_train_r = np.array(train_dataset).reshape(-1, 100, 100, 1)\n",
    "x_test_r = np.array(test_dataset).reshape(-1, 100, 100, 1)\n",
    "print(x_test_r.shape, x_train_r.shape)"
   ]
  },
  {
   "cell_type": "code",
   "execution_count": null,
   "id": "0cf3cad9-f7cf-4731-8b6c-2ceedbb0c1e1",
   "metadata": {},
   "outputs": [],
   "source": [
    "#creating a deep neural network\n",
    "from tensorflow.keras.models import Sequential\n",
    "from tensorflow.keras.layers import Dense, Activation, Flatten, Conv2D, MaxPooling2D"
   ]
  },
  {
   "cell_type": "code",
   "execution_count": null,
   "id": "f573fcfb-e10a-4abe-8ec0-afb1536fdee6",
   "metadata": {},
   "outputs": [],
   "source": [
    "#creating a cnn\n",
    "model = Sequential()\n",
    "\n",
    "#28-3+1 = 26\n",
    "model.add(Conv2D(64, (3,3), input_shape=x_train_r.shape[1:])) #convulation layer\n",
    "model.add(Activation(\"relu\")) #activation function to make it non-linear\n",
    "model.add(MaxPooling2D(pool_size=(2,2))) #Max-polling\n",
    "\n",
    "#2nd layer 26-3+1 = 24\n",
    "model.add(Conv2D(64, (3,3), input_shape=x_train_r.shape[1:])) \n",
    "model.add(Activation(\"relu\"))\n",
    "model.add(MaxPooling2D(pool_size=(2,2)))\n",
    "\n",
    "#3rd layer 24-3+1=\n",
    "model.add(Conv2D(64, (3,3), input_shape=x_train_r.shape[1:]))\n",
    "model.add(Activation(\"relu\"))\n",
    "model.add(MaxPooling2D(pool_size=(2,2)))\n",
    "\n",
    "# Fully connected layer\n",
    "model.add(Flatten())\n",
    "model.add(Dense(64))\n",
    "model.add(Activation(\"relu\"))\n",
    "\n",
    "model.add(Dense(32))\n",
    "model.add(Activation(\"relu\"))\n",
    "\n",
    "model.add(Dense(13))\n",
    "model.add(Activation(\"softmax\"))"
   ]
  },
  {
   "cell_type": "code",
   "execution_count": null,
   "id": "bf3e4b75-fb9e-43ac-be27-6f373b1ee773",
   "metadata": {},
   "outputs": [],
   "source": [
    "model.summary()"
   ]
  },
  {
   "cell_type": "code",
   "execution_count": null,
   "id": "b2dc76ab-e77a-40bf-a070-2378ad8c7b0f",
   "metadata": {},
   "outputs": [],
   "source": [
    "model.compile(loss=\"sparse_categorical_crossentropy\", optimizer=\"adam\", metrics=['accuracy'])"
   ]
  },
  {
   "cell_type": "code",
   "execution_count": null,
   "id": "916af4c7-b273-45f1-a2c5-33e8f05512f4",
   "metadata": {},
   "outputs": [],
   "source": [
    "model.fit(x_train_r, y_train, epochs=5, validation_split=0.3)"
   ]
  },
  {
   "cell_type": "code",
   "execution_count": null,
   "id": "e09b9287-c131-49f5-af10-3d9724cdf9b2",
   "metadata": {},
   "outputs": [],
   "source": []
  }
 ],
 "metadata": {
  "kernelspec": {
   "display_name": "Python 3 (ipykernel)",
   "language": "python",
   "name": "python3"
  },
  "language_info": {
   "codemirror_mode": {
    "name": "ipython",
    "version": 3
   },
   "file_extension": ".py",
   "mimetype": "text/x-python",
   "name": "python",
   "nbconvert_exporter": "python",
   "pygments_lexer": "ipython3",
   "version": "3.12.4"
  }
 },
 "nbformat": 4,
 "nbformat_minor": 5
}
